{
 "cells": [
  {
   "cell_type": "code",
   "execution_count": 1,
   "metadata": {},
   "outputs": [],
   "source": [
    "from sys import argv\n",
    "from pymongo import MongoClient\n",
    "import json\n",
    "\n",
    "# client = MongoClient('127.0.0.1', 27017)\n",
    "client = MongoClient('mongodb://127.0.0.1:27017/')\n",
    "db = client.movielens"
   ]
  },
  {
   "cell_type": "code",
   "execution_count": 2,
   "metadata": {},
   "outputs": [
    {
     "name": "stdout",
     "output_type": "stream",
     "text": [
      "['admin', 'config', 'lab', 'local', 'movielens', 'mydatabase', 'mydb', 'test']\n"
     ]
    }
   ],
   "source": [
    "db_list = client.list_database_names()\n",
    "print(db_list)"
   ]
  },
  {
   "cell_type": "code",
   "execution_count": 3,
   "metadata": {},
   "outputs": [
    {
     "name": "stdout",
     "output_type": "stream",
     "text": [
      "['tags', 'movies', 'ratings']\n"
     ]
    }
   ],
   "source": [
    "collections = db.list_collection_names()\n",
    "\n",
    "print(collections)"
   ]
  },
  {
   "cell_type": "code",
   "execution_count": 4,
   "metadata": {},
   "outputs": [
    {
     "name": "stdout",
     "output_type": "stream",
     "text": [
      "--- tags ---\n",
      "Total documents: 1093360\n",
      "{'_id': ObjectId('64196f7a8d4cb3f0f36bbb74'), 'userId': 19, 'movieId': 7099, 'tag': 'ecology', 'timestamp': 1445286153}\n",
      "{'_id': ObjectId('64196f7a8d4cb3f0f36bbb79'), 'userId': 91, 'movieId': 590, 'tag': 'American Civil War', 'timestamp': 1414248567}\n",
      "{'_id': ObjectId('64196f7a8d4cb3f0f36bbb77'), 'userId': 87, 'movieId': 109487, 'tag': 'space travel', 'timestamp': 1522676685}\n",
      "{'_id': ObjectId('64196f7a8d4cb3f0f36bbb7a'), 'userId': 91, 'movieId': 1719, 'tag': 'wintry', 'timestamp': 1414932700}\n",
      "{'_id': ObjectId('64196f7a8d4cb3f0f36bbb7b'), 'userId': 91, 'movieId': 1962, 'tag': 'aging', 'timestamp': 1414703813}\n",
      "\n",
      "\n",
      "--- movies ---\n",
      "Total documents: 62423\n",
      "{'_id': ObjectId('64196f417e2562c864eb19c4'), 'movieId': 166, 'title': 'Doom Generation, The (1995)', 'genres': ['Comedy', 'Crime', 'Drama']}\n",
      "{'_id': ObjectId('64196f417e2562c864eb19c6'), 'movieId': 169, 'title': 'Free Willy 2: The Adventure Home (1995)', 'genres': ['Adventure', 'Children', 'Drama']}\n",
      "{'_id': ObjectId('64196f417e2562c864eb19c7'), 'movieId': 173, 'title': 'Judge Dredd (1995)', 'genres': ['Action', 'Crime', 'Sci-Fi']}\n",
      "{'_id': ObjectId('64196f417e2562c864eb19c8'), 'movieId': 171, 'title': 'Jeffrey (1995)', 'genres': ['Comedy', 'Drama']}\n",
      "{'_id': ObjectId('64196f417e2562c864eb19bd'), 'movieId': 78, 'title': 'Crossing Guard, The (1995)', 'genres': ['Action', 'Crime', 'Drama', 'Thriller']}\n",
      "\n",
      "\n",
      "--- ratings ---\n",
      "Total documents: 25000095\n",
      "{'_id': ObjectId('64196f420ace5680589f4ee1'), 'userId': 1, 'movieId': 1175, 'rating': 3.5, 'timestamp': 1147868826}\n",
      "{'_id': ObjectId('64196f420ace5680589f4ef9'), 'userId': 2, 'movieId': 1957, 'rating': 3.5, 'timestamp': 1141416148}\n",
      "{'_id': ObjectId('64196f420ace5680589f4ef8'), 'userId': 2, 'movieId': 1198, 'rating': 4.0, 'timestamp': 1141417032}\n",
      "{'_id': ObjectId('64196f420ace5680589f4efc'), 'userId': 2, 'movieId': 2694, 'rating': 4.0, 'timestamp': 1141416108}\n",
      "{'_id': ObjectId('64196f420ace5680589f4efe'), 'userId': 2, 'movieId': 3098, 'rating': 3.0, 'timestamp': 1141417049}\n",
      "\n",
      "\n"
     ]
    }
   ],
   "source": [
    "# 데이터베이스 내의 모든 컬렉션 이름 가져오기\n",
    "collections = db.list_collection_names()\n",
    "\n",
    "# 각 컬렉션에 대해 도큐먼트 5개 조회 및 전체 도큐먼트 수 출력\n",
    "for collection_name in collections:\n",
    "    collection = db[collection_name]\n",
    "    print(f\"--- {collection_name} ---\")\n",
    "    # 컬렉션 내의 전체 도큐먼트 수\n",
    "    total_documents = collection.count_documents({})\n",
    "    print(f\"Total documents: {total_documents}\")\n",
    "    # 컬렉션 내의 첫 5개 도큐먼트 조회\n",
    "    for document in collection.find().limit(5):\n",
    "        print(document)\n",
    "    print(\"\\n\")\n"
   ]
  },
  {
   "cell_type": "code",
   "execution_count": 33,
   "metadata": {},
   "outputs": [
    {
     "name": "stdout",
     "output_type": "stream",
     "text": [
      "180° South (180 Degrees South) (180° South: Conquerors of the Useless) (2010)\n",
      "A River of Waste: The Hazardous Truth About Factory Farms (2009)\n",
      "All Watched Over by Machines of Loving Grace (2011)\n",
      "An Inconvenient Sequel (2017)\n",
      "Autómata (Automata) (2014)\n",
      "Avatar (2009)\n",
      "Chasing Coral (2017)\n",
      "Earth (2007)\n",
      "El Libro de Lila (2018)\n",
      "Fly Away Home (1996)\n",
      "Godzilla and Mothra: The Battle for Earth (Gojira vs. Mosura) (1992)\n",
      "Grizzly Man (2005)\n",
      "If a Tree Falls: A Story of the Earth Liberation Front (2011)\n",
      "Inconvenient Truth, An (2006)\n",
      "Island of the Blue Dolphins (1964)\n",
      "Mia and the Migoo (2008)\n",
      "Nausicaä of the Valley of the Wind (Kaze no tani no Naushika) (1984)\n",
      "No Impact Man: The Documentary (2009)\n",
      "Planet Earth (2006)\n",
      "Planet Earth II (2016)\n",
      "Salt and Fire (2016)\n",
      "Simpsons Movie, The (2007)\n",
      "Surviving Progress (2011)\n",
      "Torrente 3: El protector (2005)\n",
      "WALL·E (2008)\n",
      "When Elephants Were Young (2016)\n"
     ]
    }
   ],
   "source": [
    "def q2(input_tag: str):\n",
    "    # TODO: \n",
    "    mov_cursor = db.tags.find({'tag': input_tag}, {'movieId': 1, '_id': 0})\n",
    "    mov_list = set([m['movieId'] for m in mov_cursor])\n",
    "    if not mov_list:\n",
    "        print(f\"No title found with tag: {input_tag}\")\n",
    "        return          \n",
    "    titles = set()\n",
    "    for mov in mov_list:\n",
    "        title = db.movies.find_one({ 'movieId': mov}, {'title':1, '_id':0})\n",
    "        titles.add(title['title'])\n",
    "  \n",
    "    for title in sorted(titles):\n",
    "        print(title)\n",
    "        \n",
    "        \n",
    "\n",
    "q2(input_tag = 'ecology')"
   ]
  },
  {
   "cell_type": "code",
   "execution_count": 39,
   "metadata": {},
   "outputs": [
    {
     "name": "stdout",
     "output_type": "stream",
     "text": [
      "No ratings found for movie: Doom Generation, The (1995)\n"
     ]
    }
   ],
   "source": [
    "def q3(input_title: str):\n",
    "    # TODO: \n",
    "    movid_cursor = db.movies.find_one({'title': input_title}, {'movieId': 1, '_id':0})    \n",
    "    if not movid_cursor:\n",
    "        print(f\"No movie found with title: {input_title}\")\n",
    "        return        \n",
    "    mov_id = movid_cursor['movieId'] \n",
    "    \n",
    "    \n",
    "    ratings_cursor = db.ratings.find({ 'movieId': mov_id}, {\"_id\": 0, \"rating\": 1})\n",
    "    \n",
    "    sum_rating = 0\n",
    "    count_rating = 0 \n",
    "    \n",
    "    for rating in ratings_cursor:\n",
    "        sum_rating += rating['rating']\n",
    "        count_rating += 1\n",
    "    \n",
    "    if not count_rating:\n",
    "        print(f\"No ratings found for movie: {input_title}\")\n",
    "        return                 \n",
    "\n",
    "    _avg = sum_rating/count_rating\n",
    "    print('{:.3f}'.format(_avg))\n",
    "\n",
    "\n",
    "q3('Doom Generation, The (1995)')\n",
    "\n",
    "\n",
    "# if __name__ == '__main__':\n",
    "#     q3(argv[1])\n"
   ]
  },
  {
   "cell_type": "code",
   "execution_count": 41,
   "metadata": {},
   "outputs": [
    {
     "name": "stdout",
     "output_type": "stream",
     "text": [
      "Average rating for 'Doom Generation, The (1995)': 2.84\n"
     ]
    }
   ],
   "source": [
    "from pymongo import MongoClient\n",
    "\n",
    "def get_average_rating(movie_title):\n",
    "    # MongoDB 서버에 연결\n",
    "    client = MongoClient('mongodb://127.0.0.1:27017/')\n",
    "    db = client['movielens']\n",
    "    \n",
    "    # movies 컬렉션에서 입력받은 영화 제목의 movieId 찾기\n",
    "    movie = db.movies.find_one({\"title\": movie_title}, {\"_id\": 0, \"movieId\": 1})\n",
    "    \n",
    "    # 해당 영화 제목이 존재하지 않는 경우\n",
    "    if not movie:\n",
    "        print(f\"No movie found with title: {movie_title}\")\n",
    "        return\n",
    "    \n",
    "    # ratings 컬렉션에서 해당 movieId의 모든 평점 조회\n",
    "    ratings_cursor = db.ratings.find({\"movieId\": movie['movieId']}, {\"_id\": 0, \"rating\": 1})\n",
    "    \n",
    "    # 평점들의 평균 계산\n",
    "    total_rating = 0\n",
    "    count = 0\n",
    "    for rating in ratings_cursor:\n",
    "        total_rating += rating['rating']\n",
    "        count += 1\n",
    "    \n",
    "    # 해당 영화에 대한 평점이 없는 경우\n",
    "    if count == 0:\n",
    "        print(f\"No ratings found for movie: {movie_title}\")\n",
    "        return\n",
    "\n",
    "    average_rating = total_rating / count\n",
    "    print(f\"Average rating for '{movie_title}': {average_rating:.2f}\")\n",
    "\n",
    "# 함수 호출 예시\n",
    "get_average_rating('Doom Generation, The (1995)')\n"
   ]
  },
  {
   "cell_type": "code",
   "execution_count": 254,
   "metadata": {},
   "outputs": [
    {
     "name": "stdout",
     "output_type": "stream",
     "text": [
      "Question #2:\n",
      "생성 전: 1.001ms\n",
      "생성 후: 1.013ms\n",
      "차이: -0.012ms\n",
      "\n",
      "Question #3:\n",
      "생성 전: 0.983ms\n",
      "생성 후: 0.000ms\n",
      "차이: 0.983ms\n",
      "\n",
      "Question #4:\n",
      "생성 전: 0.000ms\n",
      "생성 후: 0.999ms\n",
      "차이: -0.999ms\n",
      "\n",
      "#2의 차이, #3의 차이, #4의 차이 평균: -0.009 ms\n"
     ]
    }
   ],
   "source": [
    "# 각 질문에 대한 쿼리 및 인덱스 생성\n",
    "queries = [\n",
    "    # Question #2: 인덱스 생성 전\n",
    "    (\"Question #2: 인덱스 생성 전\", lambda: db.ml_tags.find({'tag': 'American Civil War'}).sort('title', 1).distinct('title'), None),\n",
    "\n",
    "    # 인덱스 생성 (1번째 인덱스: 'tag' 필드)\n",
    "    (\"인덱스 생성\", lambda: create_index(db.ml_tags, [('tag', 1)]), None),\n",
    "\n",
    "    # 인덱스 추가 (2번째 인덱스: 'title' 필드)\n",
    "    (\"인덱스 추가\", lambda: create_index(db.ml_movies, [('movidId', 1)]), None),\n",
    "\n",
    "    # Question #2: 인덱스 생성 후 (3번째 인덱스: 'title' 필드)\n",
    "    (\"Question #2: 인덱스 생성 후\", lambda: db.ml_tags.find({'tag': 'American Civil War'}).sort('title', 1).distinct('title'), [('title', 1)]),\n",
    "\n",
    "    # 인덱스 삭제\n",
    "    (\"인덱스 삭제\", lambda: drop_indexes(db), None),\n",
    "\n",
    "    # Question #3: 인덱스 생성 전\n",
    "    (\"Question #3: 인덱스 생성 전\", lambda: db.ml_ratings.aggregate([\n",
    "        {'$match': {'title': 'Abraham Lincoln: Vampire Hunter (2012)'}},\n",
    "        {'$group': {'_id': '$title', 'averageRating': {'$avg': '$rating'}}}\n",
    "    ]), None),\n",
    "\n",
    "    # 인덱스 생성 (1번째 인덱스: 'title' 필드)\n",
    "    (\"인덱스 생성\", lambda: create_index(db.ml_movies, [('title', 1)]), None),\n",
    "\n",
    "    # 인덱스 추가 (2번째 인덱스: 'rating' 필드)\n",
    "    (\"인덱스 추가\", lambda: create_index(db.ml_ratings, [('movidId', 1)]), None),\n",
    "\n",
    "    # Question #3: 인덱스 생성 후 (3번째 인덱스: 'rating' 필드)\n",
    "    (\"Question #3: 인덱스 생성 후\", lambda: db.ml_ratings.aggregate([\n",
    "        {'$match': {'title': 'Abraham Lincoln: Vampire Hunter (2012)'}},\n",
    "        {'$group': {'_id': '$title', 'averageRating': {'$avg': '$rating'}}}\n",
    "    ]), [('rating', 1)]),\n",
    "\n",
    "    # 인덱스 삭제\n",
    "    (\"인덱스 삭제\", lambda: drop_indexes(db), None),\n",
    "\n",
    "    # Question #4: 인덱스 생성 전\n",
    "    (\"Question #4: 인덱스 생성 전\", lambda: db.ml_ratings.aggregate([\n",
    "        {'$match': {'userId': 2}},\n",
    "        {'$group': {'_id': None, 'totalRatings': {'$sum': 1}, 'totalRatingScores': {'$sum': '$rating'}, 'avgRatingOverall': {'$avg': '$rating'}}},\n",
    "        {'$project': {'_id': 0, 'bias': {'$divide': [{'$subtract': ['$totalRatingScores', {'$multiply': ['$avgRatingOverall', '$totalRatings']}]}, '$totalRatings']}}}\n",
    "    ]), None),\n",
    "\n",
    "    # 인덱스 생성 (1번째 인덱스: 'userId' 필드)\n",
    "    (\"인덱스 생성\", lambda: create_index(db.ml_ratings, [('userId', 1)]), None),\n",
    "\n",
    "    # 인덱스 추가 (2번째 인덱스: 'rating' 필드)\n",
    "    (\"인덱스 추가\", lambda: create_index(db.ml_ratings, [('movieId', 1)]), None),\n",
    "\n",
    "    # Question #4: 인덱스 생성 후 (3번째 인덱스: 'rating' 필드)\n",
    "    (\"Question #4: 인덱스 생성 후\", lambda: db.ml_ratings.aggregate([\n",
    "        {'$match': {'userId': 2}},\n",
    "        {'$group': {'_id': None, 'totalRatings': {'$sum': 1}, 'totalRatingScores': {'$sum': '$rating'}, 'avgRatingOverall': {'$avg': '$rating'}}},\n",
    "        {'$project': {'_id': 0, 'bias': {'$divide': [{'$subtract': ['$totalRatingScores', {'$multiply': ['$avgRatingOverall', '$totalRatings']}]}, '$totalRatings']}}}\n",
    "    ]), [('rating', 1)]),\n",
    "]\n",
    "\n",
    "# 결과 저장할 딕셔너리\n",
    "results = {}\n",
    "\n",
    "# 10000번 반복\n",
    "for _ in range(10000):\n",
    "    # 각 쿼리를 차례대로 실행하고 실행 시간 출력\n",
    "    for i in range(0, len(queries), 5):  # 인덱스 추가 후 인덱스 생성 후 질문까지 처리하는 부분을 추가하여 index를 5씩 증가시킴\n",
    "        query_name = queries[i][0]\n",
    "        before_query_func = queries[i+1][1]\n",
    "        after_query_func = queries[i+3][1]  # 수정된 부분: 인덱스 생성 후 쿼리 함수의 인덱스를 올바르게 설정\n",
    "\n",
    "        # 인덱스 생성 전 쿼리 실행 및 시간 측정\n",
    "        before_execution_time = measure_execution_time(before_query_func)\n",
    "\n",
    "        # 인덱스 생성\n",
    "        create_index(db[query_name], queries[i+1][2])\n",
    "\n",
    "        # 인덱스 추가\n",
    "        create_index(db[query_name], queries[i+2][2])\n",
    "\n",
    "        # 인덱스 생성 후 쿼리 실행 및 시간 측정\n",
    "        after_execution_time = measure_execution_time(after_query_func)\n",
    "\n",
    "        # 차이 계산\n",
    "        diff = round(before_execution_time - after_execution_time, 3)  # 수정된 부분: 생성 전 시간에서 생성 후 시간을 빼서 차이를 계산\n",
    "\n",
    "        # 결과 저장\n",
    "        if query_name not in results:\n",
    "            results[query_name] = {\"생성 전\": [], \"생성 후\": [], \"차이\": []}\n",
    "\n",
    "        results[query_name][\"생성 전\"].append(before_execution_time)\n",
    "        results[query_name][\"생성 후\"].append(after_execution_time)\n",
    "        results[query_name][\"차이\"].append(diff)\n",
    "\n",
    "# 평균값 계산 및 결과 출력\n",
    "avg_diff = []\n",
    "for query_name, result in results.items():\n",
    "    before_time = 0\n",
    "    after_time = 0\n",
    "    print(query_name.split(':')[0] + \":\")\n",
    "    for key, value in result.items():\n",
    "        if key == \"차이\":\n",
    "            print(f\"{key}: {round(before_time-after_time, 3)}ms\")\n",
    "            avg_diff.append(before_time-after_time)\n",
    "        elif key == \"생성 전\":\n",
    "            print(f\"{key}: {value[0]:.3f}ms\")\n",
    "            before_time = value[0]\n",
    "        elif key == \"생성 후\":\n",
    "            print(f\"{key}: {value[0]:.3f}ms\")\n",
    "            after_time = value[0]\n",
    "    print()\n",
    "\n",
    "# 각 question의 차이 값 출력\n",
    "average_diff_mean = {f\"#{i+2}의 차이\": round(sum(result['차이']) / len(result['차이']), 3) for i, result in enumerate(results.values())}\n",
    "print(\", \".join(average_diff_mean.keys()) + \" 평균:\", round(sum(avg_diff) / len(avg_diff), 3), \"ms\")\n"
   ]
  },
  {
   "cell_type": "code",
   "execution_count": null,
   "metadata": {},
   "outputs": [],
   "source": [
    "# 결과 저장할 딕셔너리\n",
    "results = {}\n",
    "\n",
    "# 1000번 반복\n",
    "for _ in range(1000):\n",
    "    # 각 쿼리를 차례대로 실행하고 실행 시간 출력\n",
    "    for i in range(0, len(queries), 5):  # 인덱스 추가 후 인덱스 생성 후 질문까지 처리하는 부분을 추가하여 index를 5씩 증가시킴\n",
    "        query_name = queries[i][0]\n",
    "        before_query_func = queries[i+1][1]\n",
    "        after_query_func = queries[i+3][1]  # 수정된 부분: 인덱스 생성 후 쿼리 함수의 인덱스를 올바르게 설정\n",
    "\n",
    "        # 인덱스 생성 전 쿼리 실행 및 시간 측정\n",
    "        before_execution_time = measure_execution_time(before_query_func)\n",
    "\n",
    "        # 인덱스 생성\n",
    "        create_index(db[query_name], queries[i+1][2])\n",
    "\n",
    "        # 인덱스 추가\n",
    "        create_index(db[query_name], queries[i+2][2])\n",
    "\n",
    "        # 인덱스 생성 후 쿼리 실행 및 시간 측정\n",
    "        after_execution_time = measure_execution_time(after_query_func)\n",
    "\n",
    "        # 차이 계산\n",
    "        diff = round(before_execution_time - after_execution_time, 3)  # 수정된 부분: 생성 전 시간에서 생성 후 시간을 빼서 차이를 계산\n",
    "\n",
    "        # 결과 저장\n",
    "        if query_name not in results:\n",
    "            results[query_name] = {\"생성 전\": [], \"생성 후\": [], \"차이\": []}\n",
    "\n",
    "        results[query_name][\"생성 전\"].append(before_execution_time)\n",
    "        results[query_name][\"생성 후\"].append(after_execution_time)\n",
    "        results[query_name][\"차이\"].append(diff)\n",
    "\n",
    "\n",
    "\n",
    "\n",
    "# 평균값 계산 및 결과 출력\n",
    "for query_name, result in results.items():\n",
    "    before_time = 0\n",
    "    after_time = 0\n",
    "    print(query_name.split(':')[0] + \":\")\n",
    "    for key, value in result.items():\n",
    "        if key == \"차이\":\n",
    "            print(f\"{key}: {round(before_time-after_time, 3)}ms\")\n",
    "        elif key == \"생성 전\":\n",
    "            print(f\"{key}: {value[0]:.3f}ms\")\n",
    "            before_time = value[0]\n",
    "        elif key == \"생성 후\":\n",
    "            print(f\"{key}: {value[0]:.3f}ms\")\n",
    "            after_time = value[0]\n",
    "    print()\n",
    "\n",
    "# 각 question의 차이 값 출력\n",
    "average_diff_mean = {f\"#{i+2}의 차이\": round(sum(result['차이']) / len(result['차이']), 3) for i, result in enumerate(results.values())}\n",
    "print(\", \".join(average_diff_mean.keys()) + \" 평균:\", round(sum(average_diff_mean.values()) / len(average_diff_mean), 3), \"ms\")\n"
   ]
  },
  {
   "cell_type": "code",
   "execution_count": null,
   "metadata": {},
   "outputs": [],
   "source": []
  },
  {
   "cell_type": "code",
   "execution_count": null,
   "metadata": {},
   "outputs": [],
   "source": []
  },
  {
   "cell_type": "code",
   "execution_count": null,
   "metadata": {},
   "outputs": [],
   "source": []
  },
  {
   "cell_type": "code",
   "execution_count": null,
   "metadata": {},
   "outputs": [],
   "source": []
  },
  {
   "cell_type": "code",
   "execution_count": 7,
   "metadata": {},
   "outputs": [
    {
     "data": {
      "text/plain": [
       "DeleteResult({'n': 5, 'ok': 1.0}, acknowledged=True)"
      ]
     },
     "execution_count": 7,
     "metadata": {},
     "output_type": "execute_result"
    }
   ],
   "source": [
    "newjeans.delete_many({})"
   ]
  },
  {
   "cell_type": "code",
   "execution_count": 8,
   "metadata": {},
   "outputs": [
    {
     "data": {
      "text/plain": [
       "InsertOneResult(ObjectId('660952d1aa6e97be12e47d1c'), acknowledged=True)"
      ]
     },
     "execution_count": 8,
     "metadata": {},
     "output_type": "execute_result"
    }
   ],
   "source": [
    "newjeans.insert_one({'name':'Minji', 'age':18})"
   ]
  },
  {
   "cell_type": "code",
   "execution_count": 9,
   "metadata": {},
   "outputs": [
    {
     "name": "stdout",
     "output_type": "stream",
     "text": [
      "Pretty printing has been turned OFF\n"
     ]
    }
   ],
   "source": [
    "pprint(list(newjeans.find()))"
   ]
  },
  {
   "cell_type": "code",
   "execution_count": 89,
   "metadata": {},
   "outputs": [
    {
     "data": {
      "text/plain": [
       "<pymongo.results.InsertManyResult at 0x26ae019a140>"
      ]
     },
     "execution_count": 89,
     "metadata": {},
     "output_type": "execute_result"
    }
   ],
   "source": [
    "newjeans.insert_many([\n",
    "    {\n",
    "        'name':'Hanni',\n",
    "        'age': 19\n",
    "    },\n",
    "    {\n",
    "        'name': 'Danielle',\n",
    "        'age': 18\n",
    "    },\n",
    "    {\n",
    "        'name': 'Haerin',\n",
    "        'age': 17\n",
    "    }\n",
    "])"
   ]
  },
  {
   "cell_type": "code",
   "execution_count": 90,
   "metadata": {},
   "outputs": [
    {
     "name": "stdout",
     "output_type": "stream",
     "text": [
      "[{'_id': ObjectId('6603ce812498dea9061d070f'), 'age': 18, 'name': 'Minji'},\n",
      " {'_id': ObjectId('6603ce822498dea9061d0710'), 'age': 19, 'name': 'Hanni'},\n",
      " {'_id': ObjectId('6603ce822498dea9061d0711'), 'age': 18, 'name': 'Danielle'},\n",
      " {'_id': ObjectId('6603ce822498dea9061d0712'), 'age': 17, 'name': 'Haerin'}]\n"
     ]
    }
   ],
   "source": [
    "pprint(list(newjeans.find()))"
   ]
  },
  {
   "cell_type": "code",
   "execution_count": 91,
   "metadata": {},
   "outputs": [
    {
     "data": {
      "text/plain": [
       "<pymongo.results.UpdateResult at 0x26ae0134dc0>"
      ]
     },
     "execution_count": 91,
     "metadata": {},
     "output_type": "execute_result"
    }
   ],
   "source": [
    "newjeans.update_one(\n",
    "    { 'name': 'Hannie' },\n",
    "    { '$set': { 'location' : 'Rome' } },\n",
    "    upsert=True\n",
    ")"
   ]
  },
  {
   "cell_type": "code",
   "execution_count": 92,
   "metadata": {},
   "outputs": [
    {
     "name": "stdout",
     "output_type": "stream",
     "text": [
      "[{'_id': ObjectId('6603ce812498dea9061d070f'), 'age': 18, 'name': 'Minji'},\n",
      " {'_id': ObjectId('6603ce822498dea9061d0710'), 'age': 19, 'name': 'Hanni'},\n",
      " {'_id': ObjectId('6603ce822498dea9061d0711'), 'age': 18, 'name': 'Danielle'},\n",
      " {'_id': ObjectId('6603ce822498dea9061d0712'), 'age': 17, 'name': 'Haerin'},\n",
      " {'_id': ObjectId('6603ce84fbd056ad72228dd2'),\n",
      "  'location': 'Rome',\n",
      "  'name': 'Hannie'}]\n"
     ]
    }
   ],
   "source": [
    "pprint(list(newjeans.find()))"
   ]
  },
  {
   "cell_type": "code",
   "execution_count": 93,
   "metadata": {},
   "outputs": [
    {
     "data": {
      "text/plain": [
       "<pymongo.results.UpdateResult at 0x26ae00d1400>"
      ]
     },
     "execution_count": 93,
     "metadata": {},
     "output_type": "execute_result"
    }
   ],
   "source": [
    "newjeans.update_many(\n",
    "    { 'age': 19 },\n",
    "    { '$set': { 'location' : 'Paris' } },\n",
    "    upsert=True\n",
    ")"
   ]
  },
  {
   "cell_type": "code",
   "execution_count": 94,
   "metadata": {},
   "outputs": [
    {
     "name": "stdout",
     "output_type": "stream",
     "text": [
      "[{'_id': ObjectId('6603ce812498dea9061d070f'), 'age': 18, 'name': 'Minji'},\n",
      " {'_id': ObjectId('6603ce822498dea9061d0710'),\n",
      "  'age': 19,\n",
      "  'location': 'Paris',\n",
      "  'name': 'Hanni'},\n",
      " {'_id': ObjectId('6603ce822498dea9061d0711'), 'age': 18, 'name': 'Danielle'},\n",
      " {'_id': ObjectId('6603ce822498dea9061d0712'), 'age': 17, 'name': 'Haerin'},\n",
      " {'_id': ObjectId('6603ce84fbd056ad72228dd2'),\n",
      "  'location': 'Rome',\n",
      "  'name': 'Hannie'}]\n"
     ]
    }
   ],
   "source": [
    "pprint(list(newjeans.find()))"
   ]
  },
  {
   "cell_type": "code",
   "execution_count": 95,
   "metadata": {},
   "outputs": [
    {
     "data": {
      "text/plain": [
       "<pymongo.results.UpdateResult at 0x26adfc00880>"
      ]
     },
     "execution_count": 95,
     "metadata": {},
     "output_type": "execute_result"
    }
   ],
   "source": [
    "newjeans.update_one(\n",
    "    { 'name': 'Hyein' },\n",
    "    { '$set': { 'age' : '15' } },\n",
    "    upsert=True\n",
    ")"
   ]
  },
  {
   "cell_type": "code",
   "execution_count": 96,
   "metadata": {},
   "outputs": [
    {
     "name": "stdout",
     "output_type": "stream",
     "text": [
      "[{'_id': ObjectId('6603ce812498dea9061d070f'), 'age': 18, 'name': 'Minji'},\n",
      " {'_id': ObjectId('6603ce822498dea9061d0710'),\n",
      "  'age': 19,\n",
      "  'location': 'Paris',\n",
      "  'name': 'Hanni'},\n",
      " {'_id': ObjectId('6603ce822498dea9061d0711'), 'age': 18, 'name': 'Danielle'},\n",
      " {'_id': ObjectId('6603ce822498dea9061d0712'), 'age': 17, 'name': 'Haerin'},\n",
      " {'_id': ObjectId('6603ce84fbd056ad72228dd2'),\n",
      "  'location': 'Rome',\n",
      "  'name': 'Hannie'},\n",
      " {'_id': ObjectId('6603ce89fbd056ad7222900e'), 'age': '15', 'name': 'Hyein'}]\n"
     ]
    }
   ],
   "source": [
    "pprint(list(newjeans.find()))"
   ]
  },
  {
   "cell_type": "code",
   "execution_count": 98,
   "metadata": {},
   "outputs": [
    {
     "data": {
      "text/plain": [
       "<pymongo.results.DeleteResult at 0x26ae0134640>"
      ]
     },
     "execution_count": 98,
     "metadata": {},
     "output_type": "execute_result"
    }
   ],
   "source": [
    "newjeans.delete_many({'location':'Paris'})"
   ]
  },
  {
   "cell_type": "code",
   "execution_count": 99,
   "metadata": {},
   "outputs": [
    {
     "name": "stdout",
     "output_type": "stream",
     "text": [
      "[{'_id': ObjectId('6603ce812498dea9061d070f'), 'age': 18, 'name': 'Minji'},\n",
      " {'_id': ObjectId('6603ce822498dea9061d0711'), 'age': 18, 'name': 'Danielle'},\n",
      " {'_id': ObjectId('6603ce822498dea9061d0712'), 'age': 17, 'name': 'Haerin'},\n",
      " {'_id': ObjectId('6603ce84fbd056ad72228dd2'),\n",
      "  'location': 'Rome',\n",
      "  'name': 'Hannie'},\n",
      " {'_id': ObjectId('6603ce89fbd056ad7222900e'), 'age': '15', 'name': 'Hyein'}]\n"
     ]
    }
   ],
   "source": [
    "pprint(list(newjeans.find()))"
   ]
  },
  {
   "cell_type": "code",
   "execution_count": 113,
   "metadata": {},
   "outputs": [],
   "source": [
    "db = client.lab  \n",
    "col = db.imdb"
   ]
  },
  {
   "cell_type": "code",
   "execution_count": 114,
   "metadata": {},
   "outputs": [],
   "source": [
    "def input_movie_info():\n",
    "    title = input(\"Movie title: \")\n",
    "    director = input(\"Director: \")\n",
    "    genre = input(\"Genre: \").split(\",\")\n",
    "    score = float(input(\"Score: \"))\n",
    "\n",
    "    return title, director, genre, score"
   ]
  },
  {
   "cell_type": "code",
   "execution_count": 116,
   "metadata": {},
   "outputs": [
    {
     "name": "stdout",
     "output_type": "stream",
     "text": [
      "[INFO] Success to insert!\n"
     ]
    }
   ],
   "source": [
    "t, d, g, s = input_movie_info()\n",
    "\n",
    "col.insert_one(\n",
    "    {\n",
    "        'title':t,\n",
    "        'director': d,\n",
    "        'genre': g,\n",
    "        'score': s\n",
    "    }\n",
    ")\n",
    "\n",
    "print(\"[INFO] Success to insert!\")"
   ]
  },
  {
   "cell_type": "code",
   "execution_count": 112,
   "metadata": {},
   "outputs": [
    {
     "name": "stdout",
     "output_type": "stream",
     "text": [
      "[{'_id': ObjectId('6603d1f92498dea9061d0713'),\n",
      "  'director': 'Craig Gillespie',\n",
      "  'genre': ['Comedy', ' Crime'],\n",
      "  'score': 7.4,\n",
      "  'title': 'Cruella'}]\n"
     ]
    }
   ],
   "source": [
    "pprint(list(col.find()))"
   ]
  },
  {
   "cell_type": "code",
   "execution_count": 117,
   "metadata": {},
   "outputs": [],
   "source": [
    "def input_movie_info():\n",
    "    title = input(\"Movie title: \")\n",
    "    director = input(\"Director: \")\n",
    "    genre = input(\"Genre: \").split(\",\")\n",
    "    score = float(input(\"Score: \"))\n",
    "\n",
    "    return title, director, genre, score"
   ]
  },
  {
   "cell_type": "code",
   "execution_count": 118,
   "metadata": {},
   "outputs": [
    {
     "data": {
      "text/plain": [
       "<pymongo.results.InsertManyResult at 0x26ae011b980>"
      ]
     },
     "execution_count": 118,
     "metadata": {},
     "output_type": "execute_result"
    }
   ],
   "source": [
    "quit = False\n",
    "movies = []\n",
    "\n",
    "while(not quit):\n",
    "    t, d, g, s = input_movie_info()\n",
    "    doc = {'title': t, 'director': d, 'genre': g, 'score': s }\n",
    "    movies.append(doc)\n",
    "\n",
    "    end = input(\"Quit? (Y/N)\")\n",
    "\n",
    "    if end ==\"Y\":\n",
    "        quit = True\n",
    "\n",
    "col.insert_many(movies) \n",
    "\n",
    "print(\"[INFO] Success to insert!\")"
   ]
  },
  {
   "cell_type": "code",
   "execution_count": 119,
   "metadata": {},
   "outputs": [
    {
     "name": "stdout",
     "output_type": "stream",
     "text": [
      "[{'_id': ObjectId('6603d1f92498dea9061d0713'),\n",
      "  'director': 'Craig Gillespie',\n",
      "  'genre': ['Comedy', ' Crime'],\n",
      "  'score': 7.4,\n",
      "  'title': 'Cruella'},\n",
      " {'_id': ObjectId('6603d26d2498dea9061d0714'),\n",
      "  'director': 'Craig Gillespie',\n",
      "  'genre': ['Comedy', ' Crime'],\n",
      "  'score': 7.4,\n",
      "  'title': 'Cruella'},\n",
      " {'_id': ObjectId('6603d2a12498dea9061d0715'),\n",
      "  'director': 'Craig Gillespie',\n",
      "  'genre': ['Comedy', ' Crime'],\n",
      "  'score': 7.4,\n",
      "  'title': 'Cruella'},\n",
      " {'_id': ObjectId('6603d43d2498dea9061d0716'),\n",
      "  'director': 'Anthony Russo and Joe Russo',\n",
      "  'genre': ['Action', ' Adventure', ' Drama'],\n",
      "  'score': 8.6,\n",
      "  'title': ' Avengers: Infinity War'},\n",
      " {'_id': ObjectId('6603d43d2498dea9061d0717'),\n",
      "  'director': 'Christopher Landon',\n",
      "  'genre': ['Drama', ' Horror', ' Mystery'],\n",
      "  'score': 6.6,\n",
      "  'title': 'Happy Death Day 2U'},\n",
      " {'_id': ObjectId('6603d43d2498dea9061d0718'),\n",
      "  'director': 'Park Chan-Wook',\n",
      "  'genre': ['Action', ' Drama', ' Mystery', ' Thriller'],\n",
      "  'score': 8.4,\n",
      "  'title': 'Oldboy'}]\n"
     ]
    }
   ],
   "source": [
    "pprint(list(col.find()))"
   ]
  },
  {
   "cell_type": "code",
   "execution_count": 122,
   "metadata": {},
   "outputs": [
    {
     "data": {
      "text/plain": [
       "<pymongo.results.UpdateResult at 0x26ae01684c0>"
      ]
     },
     "execution_count": 122,
     "metadata": {},
     "output_type": "execute_result"
    }
   ],
   "source": [
    "title = input(\"title\")\n",
    "director = input(\"director\")\n",
    "genre = input(\"genre\").split(\",\")\n",
    "score = float(input(\"score\"))\n",
    "\n",
    "col.update_one({'Movie Title':title}, {'$set' : {'Director':director, 'Genre': genre, 'score': score}})"
   ]
  },
  {
   "cell_type": "code",
   "execution_count": 123,
   "metadata": {},
   "outputs": [
    {
     "name": "stdout",
     "output_type": "stream",
     "text": [
      "[{'_id': ObjectId('6603d1f92498dea9061d0713'),\n",
      "  'director': 'Craig Gillespie',\n",
      "  'genre': ['Comedy', ' Crime'],\n",
      "  'score': 7.4,\n",
      "  'title': 'Cruella'},\n",
      " {'_id': ObjectId('6603d26d2498dea9061d0714'),\n",
      "  'director': 'Craig Gillespie',\n",
      "  'genre': ['Comedy', ' Crime'],\n",
      "  'score': 7.4,\n",
      "  'title': 'Cruella'},\n",
      " {'_id': ObjectId('6603d2a12498dea9061d0715'),\n",
      "  'director': 'Craig Gillespie',\n",
      "  'genre': ['Comedy', ' Crime'],\n",
      "  'score': 7.4,\n",
      "  'title': 'Cruella'},\n",
      " {'_id': ObjectId('6603d43d2498dea9061d0716'),\n",
      "  'director': 'Anthony Russo and Joe Russo',\n",
      "  'genre': ['Action', ' Adventure', ' Drama'],\n",
      "  'score': 8.6,\n",
      "  'title': ' Avengers: Infinity War'},\n",
      " {'_id': ObjectId('6603d43d2498dea9061d0717'),\n",
      "  'director': 'Christopher Landon',\n",
      "  'genre': ['Drama', ' Horror', ' Mystery'],\n",
      "  'score': 6.6,\n",
      "  'title': 'Happy Death Day 2U'},\n",
      " {'_id': ObjectId('6603d43d2498dea9061d0718'),\n",
      "  'director': 'Park Chan-Wook',\n",
      "  'genre': ['Action', ' Drama', ' Mystery', ' Thriller'],\n",
      "  'score': 8.4,\n",
      "  'title': 'Oldboy'}]\n"
     ]
    }
   ],
   "source": [
    "pprint(list(col.find()))"
   ]
  },
  {
   "cell_type": "code",
   "execution_count": 130,
   "metadata": {},
   "outputs": [
    {
     "name": "stdout",
     "output_type": "stream",
     "text": [
      "[INFO] Enter the movie title you want to update\n",
      "[INFO] Success to update!\n"
     ]
    }
   ],
   "source": [
    "print(\"[INFO] Enter the movie title you want to update\")\n",
    "\n",
    "t, d, g, s = input_movie_info()\n",
    "\n",
    "col.update_one(\n",
    "    {\n",
    "        'title':t\n",
    "    },\n",
    "    {\n",
    "        '$set': {\n",
    "            'director': d,\n",
    "            'genre': g,\n",
    "            'score': s\n",
    "        }\n",
    "    }\n",
    ")\n",
    "\n",
    "print(\"[INFO] Success to update!\")"
   ]
  },
  {
   "cell_type": "code",
   "execution_count": 131,
   "metadata": {},
   "outputs": [
    {
     "name": "stdout",
     "output_type": "stream",
     "text": [
      "[{'_id': ObjectId('6603d43d2498dea9061d0716'),\n",
      "  'director': 'null',\n",
      "  'genre': ['Genre_1', ' Genre_2'],\n",
      "  'score': 6.6,\n",
      "  'title': ' Avengers: Infinity War'},\n",
      " {'_id': ObjectId('6603d43d2498dea9061d0717'),\n",
      "  'director': 'Christopher Landon',\n",
      "  'genre': ['Drama', ' Horror', ' Mystery'],\n",
      "  'score': 6.6,\n",
      "  'title': 'Happy Death Day 2U'},\n",
      " {'_id': ObjectId('6603d43d2498dea9061d0718'),\n",
      "  'director': 'Park Chan-Wook',\n",
      "  'genre': ['Action', ' Drama', ' Mystery', ' Thriller'],\n",
      "  'score': 8.4,\n",
      "  'title': 'Oldboy'}]\n"
     ]
    }
   ],
   "source": [
    "pprint(list(col.find()))"
   ]
  },
  {
   "cell_type": "code",
   "execution_count": 128,
   "metadata": {},
   "outputs": [
    {
     "name": "stdout",
     "output_type": "stream",
     "text": [
      "[INFO] Enter the movie title you want to delete.\n",
      "[INFO] Deleted\n"
     ]
    }
   ],
   "source": [
    "print(\"[INFO] Enter the movie title you want to delete.\")\n",
    "title = input(\"Movie title: \")\n",
    "delete_op = input(\"Are you sure? (Y/N)\")\n",
    "\n",
    "if delete_op == \"Y\":\n",
    "    col.delete_many({\n",
    "        'title': title\n",
    "    })\n",
    "    print(\"[INFO] Deleted\")"
   ]
  },
  {
   "cell_type": "code",
   "execution_count": 129,
   "metadata": {},
   "outputs": [
    {
     "name": "stdout",
     "output_type": "stream",
     "text": [
      "[{'_id': ObjectId('6603d43d2498dea9061d0716'),\n",
      "  'director': 'Anthony Russo and Joe Russo',\n",
      "  'genre': ['Action', ' Adventure', ' Drama'],\n",
      "  'score': 8.6,\n",
      "  'title': ' Avengers: Infinity War'},\n",
      " {'_id': ObjectId('6603d43d2498dea9061d0717'),\n",
      "  'director': 'Christopher Landon',\n",
      "  'genre': ['Drama', ' Horror', ' Mystery'],\n",
      "  'score': 6.6,\n",
      "  'title': 'Happy Death Day 2U'},\n",
      " {'_id': ObjectId('6603d43d2498dea9061d0718'),\n",
      "  'director': 'Park Chan-Wook',\n",
      "  'genre': ['Action', ' Drama', ' Mystery', ' Thriller'],\n",
      "  'score': 8.4,\n",
      "  'title': 'Oldboy'}]\n"
     ]
    }
   ],
   "source": [
    "pprint(list(col.find()))"
   ]
  }
 ],
 "metadata": {
  "kernelspec": {
   "display_name": "Python 3",
   "language": "python",
   "name": "python3"
  },
  "language_info": {
   "codemirror_mode": {
    "name": "ipython",
    "version": 3
   },
   "file_extension": ".py",
   "mimetype": "text/x-python",
   "name": "python",
   "nbconvert_exporter": "python",
   "pygments_lexer": "ipython3",
   "version": "3.12.1"
  }
 },
 "nbformat": 4,
 "nbformat_minor": 2
}
