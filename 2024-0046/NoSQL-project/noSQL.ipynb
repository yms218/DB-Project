{
 "cells": [
  {
   "cell_type": "code",
   "execution_count": 4,
   "metadata": {},
   "outputs": [],
   "source": [
    "from pymongo import MongoClient\n",
    "\n",
    "client = MongoClient()\n",
    "client.close()  "
   ]
  },
  {
   "cell_type": "code",
   "execution_count": 5,
   "metadata": {},
   "outputs": [],
   "source": [
    "client = MongoClient('127.0.0.1', 27017)\n",
    "client = MongoClient('mongodb://127.0.0.1:27017/')"
   ]
  },
  {
   "cell_type": "code",
   "execution_count": 84,
   "metadata": {},
   "outputs": [],
   "source": [
    "from pymongo import MongoClient\n",
    "from pprint import pprint\n",
    "\n",
    "clinet = MongoClient()"
   ]
  },
  {
   "cell_type": "code",
   "execution_count": 85,
   "metadata": {},
   "outputs": [],
   "source": [
    "db = clinet.lab\n",
    "newjeans = db.newjeans"
   ]
  },
  {
   "cell_type": "code",
   "execution_count": 86,
   "metadata": {},
   "outputs": [
    {
     "data": {
      "text/plain": [
       "<pymongo.results.DeleteResult at 0x26adf7d8880>"
      ]
     },
     "execution_count": 86,
     "metadata": {},
     "output_type": "execute_result"
    }
   ],
   "source": [
    "newjeans.delete_many({})"
   ]
  },
  {
   "cell_type": "code",
   "execution_count": 87,
   "metadata": {},
   "outputs": [
    {
     "data": {
      "text/plain": [
       "<pymongo.results.InsertOneResult at 0x26ae00cc140>"
      ]
     },
     "execution_count": 87,
     "metadata": {},
     "output_type": "execute_result"
    }
   ],
   "source": [
    "newjeans.insert_one({'name':'Minji', 'age':18})"
   ]
  },
  {
   "cell_type": "code",
   "execution_count": 88,
   "metadata": {},
   "outputs": [
    {
     "name": "stdout",
     "output_type": "stream",
     "text": [
      "[{'_id': ObjectId('6603ce812498dea9061d070f'), 'age': 18, 'name': 'Minji'}]\n"
     ]
    }
   ],
   "source": [
    "pprint(list(newjeans.find()))"
   ]
  },
  {
   "cell_type": "code",
   "execution_count": 89,
   "metadata": {},
   "outputs": [
    {
     "data": {
      "text/plain": [
       "<pymongo.results.InsertManyResult at 0x26ae019a140>"
      ]
     },
     "execution_count": 89,
     "metadata": {},
     "output_type": "execute_result"
    }
   ],
   "source": [
    "newjeans.insert_many([\n",
    "    {\n",
    "        'name':'Hanni',\n",
    "        'age': 19\n",
    "    },\n",
    "    {\n",
    "        'name': 'Danielle',\n",
    "        'age': 18\n",
    "    },\n",
    "    {\n",
    "        'name': 'Haerin',\n",
    "        'age': 17\n",
    "    }\n",
    "])"
   ]
  },
  {
   "cell_type": "code",
   "execution_count": 90,
   "metadata": {},
   "outputs": [
    {
     "name": "stdout",
     "output_type": "stream",
     "text": [
      "[{'_id': ObjectId('6603ce812498dea9061d070f'), 'age': 18, 'name': 'Minji'},\n",
      " {'_id': ObjectId('6603ce822498dea9061d0710'), 'age': 19, 'name': 'Hanni'},\n",
      " {'_id': ObjectId('6603ce822498dea9061d0711'), 'age': 18, 'name': 'Danielle'},\n",
      " {'_id': ObjectId('6603ce822498dea9061d0712'), 'age': 17, 'name': 'Haerin'}]\n"
     ]
    }
   ],
   "source": [
    "pprint(list(newjeans.find()))"
   ]
  },
  {
   "cell_type": "code",
   "execution_count": 91,
   "metadata": {},
   "outputs": [
    {
     "data": {
      "text/plain": [
       "<pymongo.results.UpdateResult at 0x26ae0134dc0>"
      ]
     },
     "execution_count": 91,
     "metadata": {},
     "output_type": "execute_result"
    }
   ],
   "source": [
    "newjeans.update_one(\n",
    "    { 'name': 'Hannie' },\n",
    "    { '$set': { 'location' : 'Rome' } },\n",
    "    upsert=True\n",
    ")"
   ]
  },
  {
   "cell_type": "code",
   "execution_count": 92,
   "metadata": {},
   "outputs": [
    {
     "name": "stdout",
     "output_type": "stream",
     "text": [
      "[{'_id': ObjectId('6603ce812498dea9061d070f'), 'age': 18, 'name': 'Minji'},\n",
      " {'_id': ObjectId('6603ce822498dea9061d0710'), 'age': 19, 'name': 'Hanni'},\n",
      " {'_id': ObjectId('6603ce822498dea9061d0711'), 'age': 18, 'name': 'Danielle'},\n",
      " {'_id': ObjectId('6603ce822498dea9061d0712'), 'age': 17, 'name': 'Haerin'},\n",
      " {'_id': ObjectId('6603ce84fbd056ad72228dd2'),\n",
      "  'location': 'Rome',\n",
      "  'name': 'Hannie'}]\n"
     ]
    }
   ],
   "source": [
    "pprint(list(newjeans.find()))"
   ]
  },
  {
   "cell_type": "code",
   "execution_count": 93,
   "metadata": {},
   "outputs": [
    {
     "data": {
      "text/plain": [
       "<pymongo.results.UpdateResult at 0x26ae00d1400>"
      ]
     },
     "execution_count": 93,
     "metadata": {},
     "output_type": "execute_result"
    }
   ],
   "source": [
    "newjeans.update_many(\n",
    "    { 'age': 19 },\n",
    "    { '$set': { 'location' : 'Paris' } },\n",
    "    upsert=True\n",
    ")"
   ]
  },
  {
   "cell_type": "code",
   "execution_count": 94,
   "metadata": {},
   "outputs": [
    {
     "name": "stdout",
     "output_type": "stream",
     "text": [
      "[{'_id': ObjectId('6603ce812498dea9061d070f'), 'age': 18, 'name': 'Minji'},\n",
      " {'_id': ObjectId('6603ce822498dea9061d0710'),\n",
      "  'age': 19,\n",
      "  'location': 'Paris',\n",
      "  'name': 'Hanni'},\n",
      " {'_id': ObjectId('6603ce822498dea9061d0711'), 'age': 18, 'name': 'Danielle'},\n",
      " {'_id': ObjectId('6603ce822498dea9061d0712'), 'age': 17, 'name': 'Haerin'},\n",
      " {'_id': ObjectId('6603ce84fbd056ad72228dd2'),\n",
      "  'location': 'Rome',\n",
      "  'name': 'Hannie'}]\n"
     ]
    }
   ],
   "source": [
    "pprint(list(newjeans.find()))"
   ]
  },
  {
   "cell_type": "code",
   "execution_count": 95,
   "metadata": {},
   "outputs": [
    {
     "data": {
      "text/plain": [
       "<pymongo.results.UpdateResult at 0x26adfc00880>"
      ]
     },
     "execution_count": 95,
     "metadata": {},
     "output_type": "execute_result"
    }
   ],
   "source": [
    "newjeans.update_one(\n",
    "    { 'name': 'Hyein' },\n",
    "    { '$set': { 'age' : '15' } },\n",
    "    upsert=True\n",
    ")"
   ]
  },
  {
   "cell_type": "code",
   "execution_count": 96,
   "metadata": {},
   "outputs": [
    {
     "name": "stdout",
     "output_type": "stream",
     "text": [
      "[{'_id': ObjectId('6603ce812498dea9061d070f'), 'age': 18, 'name': 'Minji'},\n",
      " {'_id': ObjectId('6603ce822498dea9061d0710'),\n",
      "  'age': 19,\n",
      "  'location': 'Paris',\n",
      "  'name': 'Hanni'},\n",
      " {'_id': ObjectId('6603ce822498dea9061d0711'), 'age': 18, 'name': 'Danielle'},\n",
      " {'_id': ObjectId('6603ce822498dea9061d0712'), 'age': 17, 'name': 'Haerin'},\n",
      " {'_id': ObjectId('6603ce84fbd056ad72228dd2'),\n",
      "  'location': 'Rome',\n",
      "  'name': 'Hannie'},\n",
      " {'_id': ObjectId('6603ce89fbd056ad7222900e'), 'age': '15', 'name': 'Hyein'}]\n"
     ]
    }
   ],
   "source": [
    "pprint(list(newjeans.find()))"
   ]
  },
  {
   "cell_type": "code",
   "execution_count": 98,
   "metadata": {},
   "outputs": [
    {
     "data": {
      "text/plain": [
       "<pymongo.results.DeleteResult at 0x26ae0134640>"
      ]
     },
     "execution_count": 98,
     "metadata": {},
     "output_type": "execute_result"
    }
   ],
   "source": [
    "newjeans.delete_many({'location':'Paris'})"
   ]
  },
  {
   "cell_type": "code",
   "execution_count": 99,
   "metadata": {},
   "outputs": [
    {
     "name": "stdout",
     "output_type": "stream",
     "text": [
      "[{'_id': ObjectId('6603ce812498dea9061d070f'), 'age': 18, 'name': 'Minji'},\n",
      " {'_id': ObjectId('6603ce822498dea9061d0711'), 'age': 18, 'name': 'Danielle'},\n",
      " {'_id': ObjectId('6603ce822498dea9061d0712'), 'age': 17, 'name': 'Haerin'},\n",
      " {'_id': ObjectId('6603ce84fbd056ad72228dd2'),\n",
      "  'location': 'Rome',\n",
      "  'name': 'Hannie'},\n",
      " {'_id': ObjectId('6603ce89fbd056ad7222900e'), 'age': '15', 'name': 'Hyein'}]\n"
     ]
    }
   ],
   "source": [
    "pprint(list(newjeans.find()))"
   ]
  },
  {
   "cell_type": "code",
   "execution_count": 113,
   "metadata": {},
   "outputs": [],
   "source": [
    "db = client.lab  \n",
    "col = db.imdb"
   ]
  },
  {
   "cell_type": "code",
   "execution_count": 114,
   "metadata": {},
   "outputs": [],
   "source": [
    "def input_movie_info():\n",
    "    title = input(\"Movie title: \")\n",
    "    director = input(\"Director: \")\n",
    "    genre = input(\"Genre: \").split(\",\")\n",
    "    score = float(input(\"Score: \"))\n",
    "\n",
    "    return title, director, genre, score"
   ]
  },
  {
   "cell_type": "code",
   "execution_count": 116,
   "metadata": {},
   "outputs": [
    {
     "name": "stdout",
     "output_type": "stream",
     "text": [
      "[INFO] Success to insert!\n"
     ]
    }
   ],
   "source": [
    "t, d, g, s = input_movie_info()\n",
    "\n",
    "col.insert_one(\n",
    "    {\n",
    "        'title':t,\n",
    "        'director': d,\n",
    "        'genre': g,\n",
    "        'score': s\n",
    "    }\n",
    ")\n",
    "\n",
    "print(\"[INFO] Success to insert!\")"
   ]
  },
  {
   "cell_type": "code",
   "execution_count": 112,
   "metadata": {},
   "outputs": [
    {
     "name": "stdout",
     "output_type": "stream",
     "text": [
      "[{'_id': ObjectId('6603d1f92498dea9061d0713'),\n",
      "  'director': 'Craig Gillespie',\n",
      "  'genre': ['Comedy', ' Crime'],\n",
      "  'score': 7.4,\n",
      "  'title': 'Cruella'}]\n"
     ]
    }
   ],
   "source": [
    "pprint(list(col.find()))"
   ]
  },
  {
   "cell_type": "code",
   "execution_count": 117,
   "metadata": {},
   "outputs": [],
   "source": [
    "def input_movie_info():\n",
    "    title = input(\"Movie title: \")\n",
    "    director = input(\"Director: \")\n",
    "    genre = input(\"Genre: \").split(\",\")\n",
    "    score = float(input(\"Score: \"))\n",
    "\n",
    "    return title, director, genre, score"
   ]
  },
  {
   "cell_type": "code",
   "execution_count": 118,
   "metadata": {},
   "outputs": [
    {
     "data": {
      "text/plain": [
       "<pymongo.results.InsertManyResult at 0x26ae011b980>"
      ]
     },
     "execution_count": 118,
     "metadata": {},
     "output_type": "execute_result"
    }
   ],
   "source": [
    "quit = False\n",
    "movies = []\n",
    "\n",
    "while(not quit):\n",
    "    t, d, g, s = input_movie_info()\n",
    "    doc = {'title': t, 'director': d, 'genre': g, 'score': s }\n",
    "    movies.append(doc)\n",
    "\n",
    "    end = input(\"Quit? (Y/N)\")\n",
    "\n",
    "    if end ==\"Y\":\n",
    "        quit = True\n",
    "\n",
    "col.insert_many(movies) \n",
    "\n",
    "print(\"[INFO] Success to insert!\")"
   ]
  },
  {
   "cell_type": "code",
   "execution_count": 119,
   "metadata": {},
   "outputs": [
    {
     "name": "stdout",
     "output_type": "stream",
     "text": [
      "[{'_id': ObjectId('6603d1f92498dea9061d0713'),\n",
      "  'director': 'Craig Gillespie',\n",
      "  'genre': ['Comedy', ' Crime'],\n",
      "  'score': 7.4,\n",
      "  'title': 'Cruella'},\n",
      " {'_id': ObjectId('6603d26d2498dea9061d0714'),\n",
      "  'director': 'Craig Gillespie',\n",
      "  'genre': ['Comedy', ' Crime'],\n",
      "  'score': 7.4,\n",
      "  'title': 'Cruella'},\n",
      " {'_id': ObjectId('6603d2a12498dea9061d0715'),\n",
      "  'director': 'Craig Gillespie',\n",
      "  'genre': ['Comedy', ' Crime'],\n",
      "  'score': 7.4,\n",
      "  'title': 'Cruella'},\n",
      " {'_id': ObjectId('6603d43d2498dea9061d0716'),\n",
      "  'director': 'Anthony Russo and Joe Russo',\n",
      "  'genre': ['Action', ' Adventure', ' Drama'],\n",
      "  'score': 8.6,\n",
      "  'title': ' Avengers: Infinity War'},\n",
      " {'_id': ObjectId('6603d43d2498dea9061d0717'),\n",
      "  'director': 'Christopher Landon',\n",
      "  'genre': ['Drama', ' Horror', ' Mystery'],\n",
      "  'score': 6.6,\n",
      "  'title': 'Happy Death Day 2U'},\n",
      " {'_id': ObjectId('6603d43d2498dea9061d0718'),\n",
      "  'director': 'Park Chan-Wook',\n",
      "  'genre': ['Action', ' Drama', ' Mystery', ' Thriller'],\n",
      "  'score': 8.4,\n",
      "  'title': 'Oldboy'}]\n"
     ]
    }
   ],
   "source": [
    "pprint(list(col.find()))"
   ]
  },
  {
   "cell_type": "code",
   "execution_count": 122,
   "metadata": {},
   "outputs": [
    {
     "data": {
      "text/plain": [
       "<pymongo.results.UpdateResult at 0x26ae01684c0>"
      ]
     },
     "execution_count": 122,
     "metadata": {},
     "output_type": "execute_result"
    }
   ],
   "source": [
    "title = input(\"title\")\n",
    "director = input(\"director\")\n",
    "genre = input(\"genre\").split(\",\")\n",
    "score = float(input(\"score\"))\n",
    "\n",
    "col.update_one({'Movie Title':title}, {'$set' : {'Director':director, 'Genre': genre, 'score': score}})"
   ]
  },
  {
   "cell_type": "code",
   "execution_count": 123,
   "metadata": {},
   "outputs": [
    {
     "name": "stdout",
     "output_type": "stream",
     "text": [
      "[{'_id': ObjectId('6603d1f92498dea9061d0713'),\n",
      "  'director': 'Craig Gillespie',\n",
      "  'genre': ['Comedy', ' Crime'],\n",
      "  'score': 7.4,\n",
      "  'title': 'Cruella'},\n",
      " {'_id': ObjectId('6603d26d2498dea9061d0714'),\n",
      "  'director': 'Craig Gillespie',\n",
      "  'genre': ['Comedy', ' Crime'],\n",
      "  'score': 7.4,\n",
      "  'title': 'Cruella'},\n",
      " {'_id': ObjectId('6603d2a12498dea9061d0715'),\n",
      "  'director': 'Craig Gillespie',\n",
      "  'genre': ['Comedy', ' Crime'],\n",
      "  'score': 7.4,\n",
      "  'title': 'Cruella'},\n",
      " {'_id': ObjectId('6603d43d2498dea9061d0716'),\n",
      "  'director': 'Anthony Russo and Joe Russo',\n",
      "  'genre': ['Action', ' Adventure', ' Drama'],\n",
      "  'score': 8.6,\n",
      "  'title': ' Avengers: Infinity War'},\n",
      " {'_id': ObjectId('6603d43d2498dea9061d0717'),\n",
      "  'director': 'Christopher Landon',\n",
      "  'genre': ['Drama', ' Horror', ' Mystery'],\n",
      "  'score': 6.6,\n",
      "  'title': 'Happy Death Day 2U'},\n",
      " {'_id': ObjectId('6603d43d2498dea9061d0718'),\n",
      "  'director': 'Park Chan-Wook',\n",
      "  'genre': ['Action', ' Drama', ' Mystery', ' Thriller'],\n",
      "  'score': 8.4,\n",
      "  'title': 'Oldboy'}]\n"
     ]
    }
   ],
   "source": [
    "pprint(list(col.find()))"
   ]
  },
  {
   "cell_type": "code",
   "execution_count": 130,
   "metadata": {},
   "outputs": [
    {
     "name": "stdout",
     "output_type": "stream",
     "text": [
      "[INFO] Enter the movie title you want to update\n",
      "[INFO] Success to update!\n"
     ]
    }
   ],
   "source": [
    "print(\"[INFO] Enter the movie title you want to update\")\n",
    "\n",
    "t, d, g, s = input_movie_info()\n",
    "\n",
    "col.update_one(\n",
    "    {\n",
    "        'title':t\n",
    "    },\n",
    "    {\n",
    "        '$set': {\n",
    "            'director': d,\n",
    "            'genre': g,\n",
    "            'score': s\n",
    "        }\n",
    "    }\n",
    ")\n",
    "\n",
    "print(\"[INFO] Success to update!\")"
   ]
  },
  {
   "cell_type": "code",
   "execution_count": 131,
   "metadata": {},
   "outputs": [
    {
     "name": "stdout",
     "output_type": "stream",
     "text": [
      "[{'_id': ObjectId('6603d43d2498dea9061d0716'),\n",
      "  'director': 'null',\n",
      "  'genre': ['Genre_1', ' Genre_2'],\n",
      "  'score': 6.6,\n",
      "  'title': ' Avengers: Infinity War'},\n",
      " {'_id': ObjectId('6603d43d2498dea9061d0717'),\n",
      "  'director': 'Christopher Landon',\n",
      "  'genre': ['Drama', ' Horror', ' Mystery'],\n",
      "  'score': 6.6,\n",
      "  'title': 'Happy Death Day 2U'},\n",
      " {'_id': ObjectId('6603d43d2498dea9061d0718'),\n",
      "  'director': 'Park Chan-Wook',\n",
      "  'genre': ['Action', ' Drama', ' Mystery', ' Thriller'],\n",
      "  'score': 8.4,\n",
      "  'title': 'Oldboy'}]\n"
     ]
    }
   ],
   "source": [
    "pprint(list(col.find()))"
   ]
  },
  {
   "cell_type": "code",
   "execution_count": 128,
   "metadata": {},
   "outputs": [
    {
     "name": "stdout",
     "output_type": "stream",
     "text": [
      "[INFO] Enter the movie title you want to delete.\n",
      "[INFO] Deleted\n"
     ]
    }
   ],
   "source": [
    "print(\"[INFO] Enter the movie title you want to delete.\")\n",
    "title = input(\"Movie title: \")\n",
    "delete_op = input(\"Are you sure? (Y/N)\")\n",
    "\n",
    "if delete_op == \"Y\":\n",
    "    col.delete_many({\n",
    "        'title': title\n",
    "    })\n",
    "    print(\"[INFO] Deleted\")"
   ]
  },
  {
   "cell_type": "code",
   "execution_count": 129,
   "metadata": {},
   "outputs": [
    {
     "name": "stdout",
     "output_type": "stream",
     "text": [
      "[{'_id': ObjectId('6603d43d2498dea9061d0716'),\n",
      "  'director': 'Anthony Russo and Joe Russo',\n",
      "  'genre': ['Action', ' Adventure', ' Drama'],\n",
      "  'score': 8.6,\n",
      "  'title': ' Avengers: Infinity War'},\n",
      " {'_id': ObjectId('6603d43d2498dea9061d0717'),\n",
      "  'director': 'Christopher Landon',\n",
      "  'genre': ['Drama', ' Horror', ' Mystery'],\n",
      "  'score': 6.6,\n",
      "  'title': 'Happy Death Day 2U'},\n",
      " {'_id': ObjectId('6603d43d2498dea9061d0718'),\n",
      "  'director': 'Park Chan-Wook',\n",
      "  'genre': ['Action', ' Drama', ' Mystery', ' Thriller'],\n",
      "  'score': 8.4,\n",
      "  'title': 'Oldboy'}]\n"
     ]
    }
   ],
   "source": [
    "pprint(list(col.find()))"
   ]
  }
 ],
 "metadata": {
  "kernelspec": {
   "display_name": "Python 3",
   "language": "python",
   "name": "python3"
  },
  "language_info": {
   "codemirror_mode": {
    "name": "ipython",
    "version": 3
   },
   "file_extension": ".py",
   "mimetype": "text/x-python",
   "name": "python",
   "nbconvert_exporter": "python",
   "pygments_lexer": "ipython3",
   "version": "3.12.1"
  }
 },
 "nbformat": 4,
 "nbformat_minor": 2
}
